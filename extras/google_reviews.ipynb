{
 "cells": [
  {
   "cell_type": "code",
   "execution_count": null,
   "metadata": {
    "id": "bDgjXsgUJ1hX"
   },
   "outputs": [],
   "source": [
    "import requests"
   ]
  },
  {
   "cell_type": "code",
   "execution_count": null,
   "metadata": {
    "id": "yz_ym5N_GTMZ"
   },
   "outputs": [],
   "source": [
    "API_KEY='' # Api de Google// Esta no funciona, ustedes deben crearse la suya en https://console.cloud.google.com/\n",
    "PLACE_ID = \"ChIJXw6ktrzUoZURPkZ2zNbKo4Y\" # Para cada lugar que ustedes descargar las reseñas, un identificador de ese lugar. Se consigue en https://developers.google.com/maps/documentation/javascript/examples/places-placeid-finder"
   ]
  },
  {
   "cell_type": "code",
   "execution_count": null,
   "metadata": {
    "id": "IG1t25ldgLu5"
   },
   "outputs": [],
   "source": [
    "# Conseguir todas las Place_Id que quieran analizar\n",
    "# Correr la celda de abajo para cada place_id.\n",
    "# Escriban un loop."
   ]
  },
  {
   "cell_type": "code",
   "execution_count": null,
   "metadata": {
    "id": "GWk4rzzVMn-V"
   },
   "outputs": [],
   "source": [
    "# API endpoint\n",
    "url = \"https://maps.googleapis.com/maps/api/place/details/json\"\n",
    "\n",
    "# Request parameters\n",
    "params = {\n",
    "    \"place_id\": PLACE_ID,\n",
    "    \"fields\": \"name,rating,reviews\",\n",
    "    \"key\": API_KEY,\n",
    "    \"language\": \"es\"  # Spanish\n",
    "}\n",
    "\n",
    "# Make request\n",
    "response = requests.get(url, params=params).json()\n",
    "\n",
    "# Initialize an empty dictionary\n",
    "place_info = {}\n",
    "\n",
    "# Check response status\n",
    "if response[\"status\"] == \"OK\":\n",
    "    result = response[\"result\"]\n",
    "\n",
    "    # Store basic info\n",
    "    place_info[\"name\"] = result.get(\"name\")\n",
    "    place_info[\"rating\"] = result.get(\"rating\")\n",
    "\n",
    "    # Store reviews\n",
    "    place_info[\"reviews\"] = [\n",
    "        {\n",
    "            \"author_name\": review.get(\"author_name\"),\n",
    "            \"author_url\": review.get(\"author_url\"),\n",
    "            \"rating\": review.get(\"rating\"),\n",
    "            \"text\": review.get(\"text\"),\n",
    "            \"time\": review.get(\"relative_time_description\"),\n",
    "            \"language\": review.get(\"language\")\n",
    "        }\n",
    "        for review in result.get(\"reviews\", [])\n",
    "    ]\n",
    "else:\n",
    "    print(\"Error:\", response[\"status\"])\n",
    "\n"
   ]
  },
  {
   "cell_type": "code",
   "execution_count": null,
   "metadata": {
    "colab": {
     "base_uri": "https://localhost:8080/"
    },
    "id": "JgObgfq3e0IR",
    "outputId": "4ce25558-6670-469f-8962-df76fbb9afc0"
   },
   "outputs": [
    {
     "data": {
      "text/plain": [
       "{'name': 'Sucursal Colon BROU',\n",
       " 'rating': 4.6,\n",
       " 'reviews': [{'author_name': 'Adriana Mega',\n",
       "   'author_url': 'https://www.google.com/maps/contrib/115043783691002357431/reviews',\n",
       "   'rating': 5,\n",
       "   'text': 'Realmente, impecable. Solicité hablar con el gerente de sucursal Colón,sin problema me atendió y realmente me solucionó algo que ninguno lo había hecho en otras dependencias del BROU. EXELENTE!',\n",
       "   'time': 'Hace un año',\n",
       "   'language': 'es'},\n",
       "  {'author_name': 'Silvia Reyes',\n",
       "   'author_url': 'https://www.google.com/maps/contrib/115653367833392438888/reviews',\n",
       "   'rating': 5,\n",
       "   'text': 'Excelente atencion, amables, clara informacion.',\n",
       "   'time': 'Hace 7 años',\n",
       "   'language': 'es'},\n",
       "  {'author_name': 'Gabriel Farias',\n",
       "   'author_url': 'https://www.google.com/maps/contrib/101502152321270210232/reviews',\n",
       "   'rating': 3,\n",
       "   'text': 'Seguro y accesible',\n",
       "   'time': 'Hace 8 años',\n",
       "   'language': 'es'},\n",
       "  {'author_name': 'Lautaro Urtiaga',\n",
       "   'author_url': 'https://www.google.com/maps/contrib/107028309960796569153/reviews',\n",
       "   'rating': 4,\n",
       "   'text': 'Bien de bien.',\n",
       "   'time': 'Hace 7 años',\n",
       "   'language': 'es'},\n",
       "  {'author_name': 'Humberto Blanco',\n",
       "   'author_url': 'https://www.google.com/maps/contrib/108043638368847158670/reviews',\n",
       "   'rating': 5,\n",
       "   'text': '',\n",
       "   'time': 'Hace 1 mes',\n",
       "   'language': None}]}"
      ]
     },
     "execution_count": 5,
     "metadata": {},
     "output_type": "execute_result"
    }
   ],
   "source": [
    "place_info"
   ]
  },
  {
   "cell_type": "code",
   "execution_count": null,
   "metadata": {
    "id": "ue7rJwPzM5FN"
   },
   "outputs": [],
   "source": []
  }
 ],
 "metadata": {
  "colab": {
   "provenance": []
  },
  "kernelspec": {
   "display_name": "Python 3 (ipykernel)",
   "language": "python",
   "name": "python3"
  },
  "language_info": {
   "codemirror_mode": {
    "name": "ipython",
    "version": 3
   },
   "file_extension": ".py",
   "mimetype": "text/x-python",
   "name": "python",
   "nbconvert_exporter": "python",
   "pygments_lexer": "ipython3",
   "version": "3.11.3"
  }
 },
 "nbformat": 4,
 "nbformat_minor": 1
}
